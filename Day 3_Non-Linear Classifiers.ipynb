{
 "cells": [
  {
   "cell_type": "markdown",
   "metadata": {},
   "source": [
    "# Non-Linear Classifiers\n",
    "\n",
    "Today’s class will introduce modern neural network models, commonly known as deep learning models. We will learn the concept of computation graph, a general way of describing complex functions as composition of simpler functions. We will also learn about Backpropagation, a generic solution for gradient-descent based optimization in computation graphs."
   ]
  },
  {
   "cell_type": "markdown",
   "metadata": {},
   "source": [
    "<b> Exercise 3.1 </b>\n",
    "<br>\n",
    "To ease-up the upcoming implementation exercise, examine and comment the following implementation of a log-linear model and its gradient update rule. Start by loading Amazon sentiment corpus used in day 1"
   ]
  },
  {
   "cell_type": "code",
   "execution_count": 1,
   "metadata": {},
   "outputs": [],
   "source": [
    "import numpy as np\n",
    "import lxmls.readers.sentiment_reader as srs \n",
    "from lxmls.deep_learning.utils import AmazonData\n",
    "corpus=srs.SentimentCorpus(\"books\")\n",
    "data = AmazonData(corpus=corpus)"
   ]
  },
  {
   "cell_type": "code",
   "execution_count": 2,
   "metadata": {},
   "outputs": [
    {
     "name": "stdout",
     "output_type": "stream",
     "text": [
      "[[0. 0. 0. ... 0. 0. 0.]\n",
      " [0. 0. 0. ... 0. 0. 0.]\n",
      " [0. 0. 0. ... 0. 0. 0.]\n",
      " ...\n",
      " [0. 0. 0. ... 0. 0. 0.]\n",
      " [0. 0. 0. ... 0. 1. 0.]\n",
      " [0. 0. 0. ... 0. 0. 0.]]\n"
     ]
    }
   ],
   "source": [
    "print corpus.train_X"
   ]
  },
  {
   "cell_type": "code",
   "execution_count": 3,
   "metadata": {},
   "outputs": [
    {
     "name": "stdout",
     "output_type": "stream",
     "text": [
      "[[0]\n",
      " [1]\n",
      " [0]\n",
      " ...\n",
      " [1]\n",
      " [0]\n",
      " [1]]\n"
     ]
    }
   ],
   "source": [
    "print corpus.train_y"
   ]
  },
  {
   "cell_type": "code",
   "execution_count": 4,
   "metadata": {},
   "outputs": [
    {
     "name": "stdout",
     "output_type": "stream",
     "text": [
      "Number of instances to test 1600\n",
      "Number of instances that belong to class 1:  800\n",
      "Number of instances that belong to class 0:  800\n"
     ]
    }
   ],
   "source": [
    "print \"Number of instances to test\", len(corpus.train_y)\n",
    "print \"Number of instances that belong to class 1: \",(corpus.train_y==1).sum()\n",
    "print \"Number of instances that belong to class 0: \",(corpus.train_y==0).sum()"
   ]
  },
  {
   "cell_type": "markdown",
   "metadata": {},
   "source": [
    "> Compare the following numpy implementation of a log-linear model with the derivations seen in the previous sections. Introduce comments on the blocks marked with # relating them to the corresponding algorithm steps."
   ]
  },
  {
   "cell_type": "code",
   "execution_count": 5,
   "metadata": {},
   "outputs": [],
   "source": [
    "from lxmls.deep_learning.utils import Model, glorot_weight_init, index2onehot \n",
    "import numpy as np\n",
    "from scipy.misc import logsumexp\n",
    "\n",
    "class NumpyLogLinear(Model):\n",
    "    def __init__(self, **config):\n",
    "        # Initialize parameters\n",
    "        weight_shape = (config['input_size'], config['num_classes'])\n",
    "        # after Xavier Glorot et al\n",
    "        self.weight = glorot_weight_init(weight_shape, 'softmax')\n",
    "        self.bias = np.zeros((1, config['num_classes']))\n",
    "        self.learning_rate = config['learning_rate']\n",
    "\n",
    "    def log_forward(self, input=None):\n",
    "        \"\"\"Forward pass of the computation graph\"\"\"\n",
    "        \n",
    "        #weighted sums of the node input plus a bias.  Sum(w*x)+b\n",
    "        z = np.dot(input, self.weight.T) + self.bias \n",
    "        \n",
    "        # Softmax implemented in log domain\n",
    "        log_tilde_z = z - logsumexp(z, axis=1)[:, None]\n",
    "        \n",
    "        return log_tilde_z\n",
    "    \n",
    "    def predict(self, input=None):\n",
    "        \"\"\"Prediction: most probable class index\"\"\"\n",
    "        return np.argmax(np.exp(self.log_forward(input)), axis=1)\n",
    "\n",
    "    def update(self, input=None, output=None): \n",
    "        \"\"\"Stochastic Gradient Descent update\"\"\"\n",
    "        \n",
    "        #compute class probabilities\n",
    "        class_probabilities = np.exp(self.log_forward(input))\n",
    "        batch_size, num_classes = class_probabilities.shape\n",
    "        \n",
    "        #Error derivative  of the cost function\n",
    "        I = index2onehot(output, num_classes)\n",
    "        error = (class_probabilities - I) / batch_size\n",
    "        \n",
    "        #Gradient with respect to the weights \n",
    "        gradient_weight = np.zeros(self.weight.shape) \n",
    "        for l in range(batch_size):\n",
    "            gradient_weight += np.outer(error[l, :], input[l, :])\n",
    "            \n",
    "        #Gradient with respect to the bias \n",
    "        gradient_bias = np.sum(error, axis=0, keepdims=True)\n",
    "        \n",
    "        #update our parameters estimates with gradient descent (W ← W − η∇WF; b ← b − η∇bF,)\n",
    "        self.weight = self.weight - self.learning_rate * gradient_weight\n",
    "        self.bias = self.bias - self.learning_rate * gradient_bias"
   ]
  },
  {
   "cell_type": "markdown",
   "metadata": {},
   "source": [
    "> Instantiate model and data classes. Check the initial accuracy of the model. This should be close to 50% since we are on a binary prediction task and the model is not trained yet."
   ]
  },
  {
   "cell_type": "code",
   "execution_count": 6,
   "metadata": {},
   "outputs": [
    {
     "name": "stdout",
     "output_type": "stream",
     "text": [
      "Initial accuracy 54.25 %\n"
     ]
    },
    {
     "name": "stderr",
     "output_type": "stream",
     "text": [
      "/Users/RitaRamos/anaconda/envs/mypy26/lib/python2.7/site-packages/ipykernel_launcher.py:21: DeprecationWarning: `logsumexp` is deprecated!\n",
      "Importing `logsumexp` from scipy.misc is deprecated in scipy 1.0.0. Use `scipy.special.logsumexp` instead.\n"
     ]
    }
   ],
   "source": [
    "# Instantiate model\n",
    "model = NumpyLogLinear(\n",
    "    input_size=corpus.nr_features,\n",
    "    num_classes=2,\n",
    "    learning_rate=0.05\n",
    ")\n",
    "# Define number of epochs and batch size\n",
    "num_epochs = 10\n",
    "batch_size = 30\n",
    "# Instantiate data iterators\n",
    "train_batches = data.batches('train', batch_size=batch_size)\n",
    "test_set = data.batches('test', batch_size=None)[0]\n",
    "# Check initial accuracy\n",
    "hat_y = model.predict(input=test_set['input'])\n",
    "accuracy = 100*np.mean(hat_y == test_set['output']) \n",
    "print(\"Initial accuracy %2.2f %%\" % accuracy)"
   ]
  },
  {
   "cell_type": "markdown",
   "metadata": {},
   "source": [
    "> Train the model with simple batch stochastic gradient descent. Be sure to understand each of the steps involved, including the code running inside of the model class. We will be wokring on a more complex version of the model in the upcoming exercise."
   ]
  },
  {
   "cell_type": "code",
   "execution_count": 7,
   "metadata": {},
   "outputs": [
    {
     "name": "stderr",
     "output_type": "stream",
     "text": [
      "/Users/RitaRamos/anaconda/envs/mypy26/lib/python2.7/site-packages/ipykernel_launcher.py:21: DeprecationWarning: `logsumexp` is deprecated!\n",
      "Importing `logsumexp` from scipy.misc is deprecated in scipy 1.0.0. Use `scipy.special.logsumexp` instead.\n"
     ]
    },
    {
     "name": "stdout",
     "output_type": "stream",
     "text": [
      "Epoch 1: accuracy 70.50 %\n",
      "Epoch 2: accuracy 73.75 %\n",
      "Epoch 3: accuracy 76.25 %\n",
      "Epoch 4: accuracy 77.75 %\n",
      "Epoch 5: accuracy 78.75 %\n",
      "Epoch 6: accuracy 79.25 %\n",
      "Epoch 7: accuracy 79.25 %\n",
      "Epoch 8: accuracy 80.25 %\n",
      "Epoch 9: accuracy 80.50 %\n",
      "Epoch 10: accuracy 80.50 %\n"
     ]
    }
   ],
   "source": [
    "# Epoch loop\n",
    "for epoch in range(num_epochs):\n",
    "\n",
    "    # Batch loop\n",
    "    for batch in train_batches:\n",
    "        model.update(input=batch['input'], output=batch['output'])\n",
    "\n",
    "    # Prediction for this epoch\n",
    "    hat_y = model.predict(input=test_set['input'])\n",
    "\n",
    "    # Evaluation\n",
    "    accuracy = 100*np.mean(hat_y == test_set['output'])\n",
    "    print(\"Epoch %d: accuracy %2.2f %%\" % (epoch+1, accuracy))"
   ]
  },
  {
   "cell_type": "markdown",
   "metadata": {},
   "source": [
    "<b> Exercise 3.2  </b>\n",
    "<br>Instantiate the feed-forward model class and optimization parameters. This models follows the architecture described in Algorithm 10."
   ]
  },
  {
   "cell_type": "code",
   "execution_count": 8,
   "metadata": {},
   "outputs": [],
   "source": [
    "# Model\n",
    "geometry = [corpus.nr_features, 20, 2]\n",
    "activation_functions = ['sigmoid', 'softmax']\n",
    "# Optimization\n",
    "learning_rate = 0.05\n",
    "num_epochs = 10\n",
    "batch_size = 30\n",
    "# Instantiate model\n",
    "from lxmls.deep_learning.numpy_models.mlp import NumpyMLP \n",
    "\n",
    "model = NumpyMLP(\n",
    "    geometry=geometry,\n",
    "    activation_functions=activation_functions,\n",
    "    learning_rate=learning_rate\n",
    ")"
   ]
  },
  {
   "cell_type": "code",
   "execution_count": 9,
   "metadata": {},
   "outputs": [],
   "source": [
    "from lxmls.deep_learning.mlp import get_mlp_parameter_handlers, get_mlp_loss_range\n",
    "# Get functions to get and set values of a particular weight of the model\n",
    "get_parameter, set_parameter = get_mlp_parameter_handlers(layer_index=1,is_bias=False, row=0, column=0)\n",
    "# Get batch of data\n",
    "batch = data.batches('train', batch_size=batch_size)[0]\n",
    "# Get loss and weight value\n",
    "current_loss = model.cross_entropy_loss(batch['input'], batch['output'])\n",
    "current_weight = get_parameter(model.parameters)\n",
    "# Get range of values of the weight and loss around current parameters values\n",
    "weight_range, loss_range = get_mlp_loss_range(model, get_parameter, set_parameter, batch)"
   ]
  },
  {
   "cell_type": "markdown",
   "metadata": {},
   "source": [
    "> Once you have implemented at least the gradient of the last layer. You can start checking if the values match"
   ]
  },
  {
   "cell_type": "code",
   "execution_count": 10,
   "metadata": {},
   "outputs": [],
   "source": [
    "gradients = model.backpropagation(batch['input'], batch['output'])\n",
    "current_gradient = get_parameter(gradients)"
   ]
  },
  {
   "cell_type": "markdown",
   "metadata": {},
   "source": [
    "> Now you can plot the values of the loss around a given parameters value versus the gradient. If you have implemented this correctly the gradient should be tangent to the loss at the current weight value, see Figure 3.5. Once you have completed the exercise, you should be able to plot also the gradients of the other layers. Take into account that the gradients for the first layer will only be non zero for the indices of words present in the batch. You can locate this using."
   ]
  },
  {
   "cell_type": "code",
   "execution_count": 11,
   "metadata": {},
   "outputs": [
    {
     "data": {
      "text/plain": [
       "(array([   59,   111,   125,   258,   302,   361,   514,   737,   743,\n",
       "          814,   825,   872,   922,   977,  1094,  1280,  1286,  1296,\n",
       "         1314,  1348,  1604,  1731,  1830,  1947,  2057,  2120,  2173,\n",
       "         2235,  2245,  2261,  2331,  2347,  2492,  2555,  2608,  2638,\n",
       "         2755,  2882,  3069,  3091,  3157,  3291,  3322,  3342,  3558,\n",
       "         3769,  4203,  4478,  4509,  4718,  5033,  5136,  5244,  5305,\n",
       "         5444,  5557,  5909,  6115,  6152,  6268,  6303,  6431,  6702,\n",
       "         6720,  6735,  6810,  6926,  6961,  6986,  7168,  7187,  7364,\n",
       "         7414,  7584,  7803,  7882,  8007,  8055,  8258,  8330,  8421,\n",
       "         8552,  8925,  9037,  9048,  9383,  9599,  9732,  9778,  9809,\n",
       "         9967, 10063, 10134, 10327, 10420, 10578, 10652, 10714, 10846,\n",
       "        10964, 11003, 11105, 11432, 11530, 11719, 11720, 11732, 11791,\n",
       "        11817, 11902, 11922, 11970, 11999, 12054, 12064, 12073, 12090,\n",
       "        12116, 12139, 12287, 12397, 12544, 12554, 12558, 12772, 13299,\n",
       "        13455, 13578, 13686, 13756, 13787, 13944]),)"
      ]
     },
     "execution_count": 11,
     "metadata": {},
     "output_type": "execute_result"
    }
   ],
   "source": [
    "batch['input'][0].nonzero()"
   ]
  },
  {
   "cell_type": "markdown",
   "metadata": {},
   "source": [
    "> Copy the following code for plotting"
   ]
  },
  {
   "cell_type": "code",
   "execution_count": 12,
   "metadata": {},
   "outputs": [
    {
     "data": {
      "image/png": "[encoded data removed]",
      "text/plain": [
       "<matplotlib.figure.Figure at 0x10a2809d0>"
      ]
     },
     "metadata": {},
     "output_type": "display_data"
    }
   ],
   "source": [
    "%matplotlib inline\n",
    "import matplotlib.pyplot as plt\n",
    "# Plot empirical\n",
    "plt.plot(weight_range, loss_range)\n",
    "plt.plot(current_weight, current_loss, 'xr')\n",
    "plt.ylabel('loss value')\n",
    "plt.xlabel('weight value')\n",
    "# Plot real\n",
    "h = plt.plot(\n",
    "    weight_range,\n",
    "    current_gradient*(weight_range - current_weight) + current_loss,'r--'\n",
    ")"
   ]
  },
  {
   "cell_type": "markdown",
   "metadata": {},
   "source": [
    "> After you have ensured that your Backpropagation algorithm is correct, you can train a model with the data we have."
   ]
  },
  {
   "cell_type": "code",
   "execution_count": 13,
   "metadata": {},
   "outputs": [
    {
     "name": "stdout",
     "output_type": "stream",
     "text": [
      "Epoch 1: accuracy 64.25 %\n",
      "Epoch 2: accuracy 68.75 %\n",
      "Epoch 3: accuracy 73.75 %\n",
      "Epoch 4: accuracy 74.50 %\n",
      "Epoch 5: accuracy 76.50 %\n",
      "Epoch 6: accuracy 77.25 %\n",
      "Epoch 7: accuracy 79.75 %\n",
      "Epoch 8: accuracy 80.00 %\n",
      "Epoch 9: accuracy 81.00 %\n",
      "Epoch 10: accuracy 81.00 %\n"
     ]
    }
   ],
   "source": [
    "# Get batch iterators for train and test\n",
    "train_batches = data.batches('train', batch_size=batch_size)\n",
    "test_set = data.batches('test', batch_size=None)[0]\n",
    "# Epoch loop\n",
    "for epoch in range(num_epochs):\n",
    "# Batch loop\n",
    "    for batch in train_batches:\n",
    "        model.update(input=batch['input'], output=batch['output'])\n",
    "        # Prediction for this epoch\n",
    "    hat_y = model.predict(input=test_set['input'])\n",
    "    # Evaluation\n",
    "    accuracy = 100*np.mean(hat_y == test_set['output'])\n",
    "    print(\"Epoch %d: accuracy %2.2f %%\" % (epoch+1, accuracy))"
   ]
  },
  {
   "cell_type": "markdown",
   "metadata": {
    "collapsed": true
   },
   "source": [
    "# Deriving gradients and GPU code with Pytorch\n",
    "<b> Exercise3.3 </b>\n",
    "<br> \n",
    "In order to learn the differences between a numpy and a Pytorch implementation, explore the reimplementation of Ex. 3.1 in Pytorch. Compare the content of each of the functions, in particular the forward() and update methods(). The comments indicated as IMPORTANT will highlight common sources of errors."
   ]
  },
  {
   "cell_type": "code",
   "execution_count": 21,
   "metadata": {},
   "outputs": [],
   "source": [
    "import torch\n",
    "from torch.autograd import Variable\n",
    "class PytorchLogLinear(Model):\n",
    "    def __init__(self, **config):\n",
    "        # Initialize parameters\n",
    "        weight_shape = (config['input_size'], config['num_classes'])\n",
    "        \n",
    "        # after Xavier Glorot et al\n",
    "        self.weight = glorot_weight_init(weight_shape, 'softmax')\n",
    "        self.bias = np.zeros((1, config['num_classes']))\n",
    "        self.learning_rate = config['learning_rate']\n",
    "        \n",
    "        # IMPORTANT: Cast to pytorch format\n",
    "        self.weight = Variable(torch.from_numpy(self.weight).float(), requires_grad=True)\n",
    "        self.bias = Variable(torch.from_numpy(self.bias).float(), requires_grad=True)\n",
    "        \n",
    "        # Instantiate softmax and negative logkelihood in log domain\n",
    "        self.logsoftmax = torch.nn.LogSoftmax(dim=1)\n",
    "        self.loss = torch.nn.NLLLoss()\n",
    "        \n",
    "    def _log_forward(self, input=None):\n",
    "        \"\"\"Forward pass of the computation graph in logarithm domain (pytorch)\"\"\"\n",
    "        # IMPORTANT: Cast to pytorch format\n",
    "        input = Variable(torch.from_numpy(input).float(), requires_grad=False) \n",
    "        \n",
    "        # Linear transformation\n",
    "        z = torch.matmul(input, torch.t(self.weight)) + self.bias \n",
    "        \n",
    "        # Softmax implemented in log domain\n",
    "        log_tilde_z = self.logsoftmax(z)\n",
    "        \n",
    "        # NOTE that this is a pytorch class!\n",
    "        return log_tilde_z\n",
    "    \n",
    "    def predict(self, input=None):\n",
    "        \"\"\"Most probably class index\"\"\"\n",
    "        log_forward = self._log_forward(input).data.numpy()\n",
    "        return np.argmax(np.exp(log_forward), axis=1)\n",
    "    \n",
    "    def update(self, input=None, output=None): \n",
    "        \"\"\"Stochastic Gradient Descent update\"\"\"    \n",
    "        true_class = Variable(torch.from_numpy(output).long(), requires_grad=False)\n",
    "\n",
    "        # Compute negative log-likelihood loss\n",
    "        loss = torch.nn.NLLLoss()(self._log_forward(input), true_class)\n",
    "        # Use autograd to compute the backward pass.\n",
    "        loss.backward()\n",
    "\n",
    "        # SGD update\n",
    "        self.weight.data -= self.learning_rate * self.weight.grad.data\n",
    "        self.bias.data -= self.learning_rate * self.bias.grad.data\n",
    "\n",
    "        # Zero gradients\n",
    "        self.weight.grad.data.zero_()\n",
    "        self.bias.grad.data.zero_()\n",
    "\n",
    "        return loss.data.numpy()"
   ]
  },
  {
   "cell_type": "markdown",
   "metadata": {},
   "source": [
    "> Once you understand the model you can instantiate it and run it using the standard training loop we have used on previous exercises."
   ]
  },
  {
   "cell_type": "code",
   "execution_count": 22,
   "metadata": {},
   "outputs": [],
   "source": [
    "# Instantiate model\n",
    "model = PytorchLogLinear(\n",
    "    input_size=corpus.nr_features,\n",
    "    num_classes=2,\n",
    "    learning_rate=0.05\n",
    ")"
   ]
  },
  {
   "cell_type": "code",
   "execution_count": 23,
   "metadata": {},
   "outputs": [
    {
     "name": "stdout",
     "output_type": "stream",
     "text": [
      "Epoch 1: accuracy 70.50 %\n",
      "Epoch 2: accuracy 73.75 %\n",
      "Epoch 3: accuracy 76.25 %\n",
      "Epoch 4: accuracy 77.75 %\n",
      "Epoch 5: accuracy 78.75 %\n",
      "Epoch 6: accuracy 79.25 %\n",
      "Epoch 7: accuracy 79.25 %\n",
      "Epoch 8: accuracy 80.25 %\n",
      "Epoch 9: accuracy 80.50 %\n",
      "Epoch 10: accuracy 80.50 %\n"
     ]
    }
   ],
   "source": [
    "# Get batch iterators for train and test\n",
    "train_batches = data.batches('train', batch_size=batch_size)\n",
    "test_set = data.batches('test', batch_size=None)[0]\n",
    "\n",
    "# Epoch loop\n",
    "for epoch in range(num_epochs):\n",
    "    # Batch loop\n",
    "    for batch in train_batches:\n",
    "        model.update(input=batch['input'], output=batch['output'])\n",
    "        \n",
    "    # Prediction for this epoch\n",
    "    hat_y = model.predict(input=test_set['input'])\n",
    "\n",
    "    # Evaluation\n",
    "    accuracy = 100*np.mean(hat_y == test_set['output'])\n",
    "    print(\"Epoch %d: accuracy %2.2f %%\" % (epoch+1, accuracy))"
   ]
  },
  {
   "cell_type": "markdown",
   "metadata": {},
   "source": [
    "<b> Exercise 3.4 </b>\n",
    "<br> As the final exercise today implement the log forward() method in lxmls/deep learning/pytorch models/mlp.py. Use the previous exercise as reference. After you have completed this you can run both systems for comparison."
   ]
  },
  {
   "cell_type": "code",
   "execution_count": null,
   "metadata": {},
   "outputs": [],
   "source": []
  }
 ],
 "metadata": {
  "kernelspec": {
   "display_name": "Python 2",
   "language": "python",
   "name": "python2"
  },
  "language_info": {
   "codemirror_mode": {
    "name": "ipython",
    "version": 2
   },
   "file_extension": ".py",
   "mimetype": "text/x-python",
   "name": "python",
   "nbconvert_exporter": "python",
   "pygments_lexer": "ipython2",
   "version": "2.7.14"
  }
 },
 "nbformat": 4,
 "nbformat_minor": 2
}
