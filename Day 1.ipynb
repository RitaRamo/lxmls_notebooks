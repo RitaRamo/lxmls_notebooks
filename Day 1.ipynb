{
 "cells": [
  {
   "cell_type": "markdown",
   "metadata": {},
   "source": [
    "# Linear Classifiers\n",
    "\n",
    "Perform sentiment analysis on a corpus of book reviews from Amazon."
   ]
  },
  {
   "cell_type": "markdown",
   "metadata": {},
   "source": [
    "<b> Exercise 1.1 - Generative Classifiers: Naıve Bayes </b> \n",
    "<br>\n",
    "In this exercise we will use the Amazon sentiment analysis data (Blitzer et al., 2007), where the goal is to classify text documents as expressing a positive or negative sentiment (i.e., a classification problem with two classes). We are going to focus on book reviews."
   ]
  },
  {
   "cell_type": "code",
   "execution_count": 1,
   "metadata": {
    "collapsed": true
   },
   "outputs": [],
   "source": [
    "import lxmls.readers.sentiment_reader as srs\n",
    "scr = srs.SentimentCorpus(\"books\")"
   ]
  },
  {
   "cell_type": "code",
   "execution_count": 2,
   "metadata": {
    "collapsed": false,
    "scrolled": true
   },
   "outputs": [
    {
     "name": "stdout",
     "output_type": "stream",
     "text": [
      "My instances to train have the shape (1600, 13989) and are the following:\n",
      "[[0. 0. 0. ... 0. 0. 0.]\n",
      " [0. 0. 0. ... 0. 0. 0.]\n",
      " [0. 0. 0. ... 0. 0. 0.]\n",
      " ...\n",
      " [0. 0. 0. ... 0. 0. 0.]\n",
      " [0. 0. 0. ... 0. 1. 0.]\n",
      " [0. 0. 0. ... 0. 0. 0.]]\n",
      "\n",
      " Their targets/outputs belongo to the classes [0 1] and are the following:\n",
      "[[0]\n",
      " [1]\n",
      " [0]\n",
      " ...\n",
      " [1]\n",
      " [0]\n",
      " [1]]\n",
      "\n",
      " My instances to test have the shape (400, 13989)\n",
      "\n",
      "So, each instance (row) represents a doc, being the doc represented as a bag-of-words  (each collum represents the freq of that word in that doc). Each document can either be classified as positive or a negative sentiment (1, ou 0, respectively).\n"
     ]
    }
   ],
   "source": [
    "import numpy as np\n",
    "from __future__ import division\n",
    "print \"My instances to train have the shape\", np.shape(scr.train_X), \"and are the following:\\n\", scr.train_X\n",
    "print \"\\n Their targets/outputs belongo to the classes\", np.unique(scr.train_y),\"and are the following:\\n\", scr.train_y \n",
    "\n",
    "print \"\\n My instances to test have the shape\", np.shape(scr.test_X)\n",
    "\n",
    "print '\\nSo, each instance (row) represents a doc, being the doc represented as a bag-of-words  (each collum represents the freq of that word in that doc). Each document can either be classified as positive or a negative sentiment (1, ou 0, respectively).'"
   ]
  },
  {
   "cell_type": "markdown",
   "metadata": {
    "collapsed": true
   },
   "source": [
    " > Implement the Naive Bayes algorithm. Open the file multinomial naive bayes.py, which is inside the classifiers folder. In the MultinomialNaiveBayes class you will find the train method. We have already placed some code in that file to help you get started."
   ]
  },
  {
   "cell_type": "code",
   "execution_count": 3,
   "metadata": {
    "collapsed": false
   },
   "outputs": [],
   "source": [
    "#This is the code that I implemented in the train method:\n",
    "''' what was given, where x and y where scr.train_X and trainY:'''\n",
    "x=scr.train_X\n",
    "y=scr.train_y\n",
    "# n_docs = no. of documents\n",
    "# n_words = no. of unique words\n",
    "n_docs, n_words = x.shape\n",
    "# classes = a list of possible classes\n",
    "classes = np.unique(y)\n",
    "# n_classes = no. of classes\n",
    "n_classes = np.unique(y).shape[0]\n",
    "\n",
    "# initialization of the prior and likelihood variables\n",
    "prior = np.zeros(n_classes)\n",
    "likelihood = np.zeros((n_words, n_classes))\n",
    "\n",
    "'''my solution'''\n",
    "\n",
    "for i in range(n_classes):\n",
    "    docs_of_class=x[np.where(y==classes[i])[0]] \n",
    "\n",
    "    prior[i]=len(docs_of_class)/n_docs\n",
    "\n",
    "    freq_of_each_word=docs_of_class.sum(0)  #[freq_w1, freq_w2, etc]\n",
    "    likelihood[:,i]=freq_of_each_word/ freq_of_each_word.sum()"
   ]
  },
  {
   "cell_type": "markdown",
   "metadata": {},
   "source": [
    "> After implementing, run NaiveBayes with the multinomial model on the Amazon dataset(sentiment classification) and report results both for training and testing:"
   ]
  },
  {
   "cell_type": "code",
   "execution_count": 4,
   "metadata": {
    "collapsed": false
   },
   "outputs": [
    {
     "name": "stderr",
     "output_type": "stream",
     "text": [
      "lxmls/classifiers/multinomial_naive_bayes.py:65: RuntimeWarning: divide by zero encountered in log\n",
      "  params[1:, i] = np.nan_to_num(np.log(likelihood[:, i]))\n"
     ]
    },
    {
     "name": "stdout",
     "output_type": "stream",
     "text": [
      "Multinomial Naive Bayes Amazon Sentiment Accuracy train: 0.987500 test: 0.635000\n"
     ]
    }
   ],
   "source": [
    "smoothing=False \n",
    "\n",
    "import lxmls.classifiers.multinomial_naive_bayes as mnbb\n",
    "mnb = mnbb.MultinomialNaiveBayes()\n",
    "params_nb_sc = mnb.train(scr.train_X,scr.train_y, smoothing)\n",
    "y_pred_train = mnb.test(scr.train_X,params_nb_sc)\n",
    "acc_train = mnb.evaluate(scr.train_y, y_pred_train)\n",
    "y_pred_test = mnb.test(scr.test_X,params_nb_sc)\n",
    "acc_test = mnb.evaluate(scr.test_y, y_pred_test)\n",
    "print \"Multinomial Naive Bayes Amazon Sentiment Accuracy train: %f test: %f\"%(acc_train,acc_test)"
   ]
  },
  {
   "cell_type": "markdown",
   "metadata": {},
   "source": [
    "> Observe that words that were not observed at training time cause problems at test time. Why? To solve this problem, apply a simple add-one smoothing technique"
   ]
  },
  {
   "cell_type": "markdown",
   "metadata": {},
   "source": [
    "Basically, I changed the code related to the likelihood to be:\n",
    "   <br>\n",
    "   likelihood[:,i]=(1+freq_of_each_word)/ (freq_of_each_word.sum()+n_words)"
   ]
  },
  {
   "cell_type": "code",
   "execution_count": 5,
   "metadata": {
    "collapsed": false
   },
   "outputs": [
    {
     "name": "stdout",
     "output_type": "stream",
     "text": [
      "Multinomial Naive Bayes Amazon Sentiment Accuracy train: 0.974375 test: 0.840000\n"
     ]
    }
   ],
   "source": [
    "smoothing=True \n",
    "\n",
    "import lxmls.classifiers.multinomial_naive_bayes as mnbb\n",
    "mnb = mnbb.MultinomialNaiveBayes()\n",
    "params_nb_sc = mnb.train(scr.train_X,scr.train_y,smoothing)\n",
    "y_pred_train = mnb.test(scr.train_X,params_nb_sc)\n",
    "acc_train = mnb.evaluate(scr.train_y, y_pred_train)\n",
    "y_pred_test = mnb.test(scr.test_X,params_nb_sc)\n",
    "acc_test = mnb.evaluate(scr.test_y, y_pred_test)\n",
    "print \"Multinomial Naive Bayes Amazon Sentiment Accuracy train: %f test: %f\"%(acc_train,acc_test)"
   ]
  },
  {
   "cell_type": "markdown",
   "metadata": {
    "collapsed": true
   },
   "source": [
    "<b> Exercise 1.2 - Perceptron </b>\n",
    "<br>\n",
    "We provide an implementation of the perceptron algorithm in the class Perceptron (file perceptron.py)."
   ]
  },
  {
   "cell_type": "markdown",
   "metadata": {},
   "source": [
    "> Run the following commands to generate a simple dataset similar to the one plotted on Figure 1.1:"
   ]
  },
  {
   "cell_type": "code",
   "execution_count": 6,
   "metadata": {
    "collapsed": false
   },
   "outputs": [],
   "source": [
    "import lxmls.readers.simple_data_set as sds\n",
    "sd = sds.SimpleDataSet(nr_examples=100, g1 = [[-1,-1],1], g2 = [[1,1],1], balance=0.5, split=[0.5,0,0.5])"
   ]
  },
  {
   "cell_type": "markdown",
   "metadata": {},
   "source": [
    "> Run the perceptron algorithm on the simple dataset previously generated and report its train and test set accuracy:"
   ]
  },
  {
   "cell_type": "code",
   "execution_count": 7,
   "metadata": {
    "collapsed": false
   },
   "outputs": [
    {
     "name": "stdout",
     "output_type": "stream",
     "text": [
      "Rounds: 0 Accuracy: 0.920000\n",
      "Rounds: 1 Accuracy: 0.960000\n",
      "Rounds: 2 Accuracy: 0.940000\n",
      "Rounds: 3 Accuracy: 0.900000\n",
      "Rounds: 4 Accuracy: 0.920000\n",
      "Rounds: 5 Accuracy: 0.980000\n",
      "Rounds: 6 Accuracy: 0.920000\n",
      "Rounds: 7 Accuracy: 0.980000\n",
      "Rounds: 8 Accuracy: 0.900000\n",
      "Rounds: 9 Accuracy: 0.920000\n",
      "Perceptron Simple Dataset Accuracy train: 0.960000 test: 0.900000\n"
     ]
    }
   ],
   "source": [
    "import lxmls.classifiers.perceptron as percc\n",
    "perc = percc.Perceptron()\n",
    "params_perc_sd = perc.train(sd.train_X,sd.train_y)\n",
    "y_pred_train = perc.test(sd.train_X,params_perc_sd)\n",
    "acc_train = perc.evaluate(sd.train_y, y_pred_train)\n",
    "y_pred_test = perc.test(sd.test_X,params_perc_sd)\n",
    "acc_test = perc.evaluate(sd.test_y, y_pred_test)\n",
    "print \"Perceptron Simple Dataset Accuracy train: %f test: %f\"%(acc_train,acc_test)"
   ]
  },
  {
   "cell_type": "markdown",
   "metadata": {},
   "source": [
    "> Plot the decision boundary found:"
   ]
  },
  {
   "cell_type": "code",
   "execution_count": 8,
   "metadata": {
    "collapsed": false
   },
   "outputs": [
    {
     "name": "stdout",
     "output_type": "stream",
     "text": [
      "[[-1.69314718 -1.69314718]\n",
      " [-1.          1.        ]\n",
      " [-1.          1.        ]]\n"
     ]
    }
   ],
   "source": [
    "import matplotlib.pyplot as plt\n",
    "fig,axis = sd.plot_data()\n",
    "fig,axis = sd.add_line(fig,axis,params_perc_sd,\"Perceptron\",\"blue\")"
   ]
  },
  {
   "cell_type": "markdown",
   "metadata": {},
   "source": [
    "> Run the perceptron algorithm on the Amazon dataset."
   ]
  },
  {
   "cell_type": "code",
   "execution_count": 9,
   "metadata": {
    "collapsed": false
   },
   "outputs": [
    {
     "name": "stdout",
     "output_type": "stream",
     "text": [
      "Rounds: 0 Accuracy: 0.870000\n",
      "Rounds: 1 Accuracy: 0.940000\n",
      "Rounds: 2 Accuracy: 0.979375\n",
      "Rounds: 3 Accuracy: 0.965625\n",
      "Rounds: 4 Accuracy: 0.989375\n",
      "Rounds: 5 Accuracy: 0.996250\n",
      "Rounds: 6 Accuracy: 0.995000\n",
      "Rounds: 7 Accuracy: 0.999375\n",
      "Rounds: 8 Accuracy: 0.996250\n",
      "Rounds: 9 Accuracy: 0.998125\n",
      "Perceptron Simple Dataset Accuracy train: 0.998750 test: 0.825000\n"
     ]
    }
   ],
   "source": [
    "params_perc_scr = perc.train(scr.train_X,scr.train_y)\n",
    "y_pred_train = perc.test(scr.train_X,params_perc_scr)\n",
    "acc_train = perc.evaluate(scr.train_y, y_pred_train)\n",
    "y_pred_test = perc.test(scr.test_X,params_perc_scr)\n",
    "acc_test = perc.evaluate(scr.test_y, y_pred_test)\n",
    "print \"Perceptron Simple Dataset Accuracy train: %f test: %f\"%(acc_train,acc_test)"
   ]
  },
  {
   "cell_type": "markdown",
   "metadata": {},
   "source": [
    "<b> Exercise 1.3 - Margin Infused Relaxed Algorithm (MIRA)</b>\n",
    "<br>\n",
    "We provide an implementation of the MIRA algorithm. "
   ]
  },
  {
   "cell_type": "code",
   "execution_count": 10,
   "metadata": {
    "collapsed": false
   },
   "outputs": [],
   "source": [
    "import lxmls.classifiers.mira as mirac\n",
    "mira = mirac.Mira()"
   ]
  },
  {
   "cell_type": "code",
   "execution_count": 11,
   "metadata": {
    "collapsed": false
   },
   "outputs": [
    {
     "name": "stdout",
     "output_type": "stream",
     "text": [
      "\n",
      "lambda 0.1\n",
      "Rounds: 0 Accuracy: 0.980000\n",
      "Rounds: 1 Accuracy: 0.980000\n",
      "Rounds: 2 Accuracy: 0.960000\n",
      "Rounds: 3 Accuracy: 0.980000\n",
      "Rounds: 4 Accuracy: 0.980000\n",
      "Rounds: 5 Accuracy: 0.940000\n",
      "Rounds: 6 Accuracy: 0.980000\n",
      "Rounds: 7 Accuracy: 0.980000\n",
      "Rounds: 8 Accuracy: 0.980000\n",
      "Rounds: 9 Accuracy: 0.960000\n",
      "Mira Simple Dataset Accuracy train: 0.980000 test: 0.880000\n",
      "\n",
      "lambda 0.2\n",
      "Rounds: 0 Accuracy: 0.980000\n",
      "Rounds: 1 Accuracy: 0.980000\n",
      "Rounds: 2 Accuracy: 0.960000\n",
      "Rounds: 3 Accuracy: 0.960000\n",
      "Rounds: 4 Accuracy: 0.960000\n",
      "Rounds: 5 Accuracy: 0.960000\n",
      "Rounds: 6 Accuracy: 0.960000\n",
      "Rounds: 7 Accuracy: 0.960000\n",
      "Rounds: 8 Accuracy: 0.960000\n",
      "Rounds: 9 Accuracy: 0.960000\n",
      "Mira Simple Dataset Accuracy train: 0.960000 test: 0.880000\n",
      "\n",
      "lambda 0.3\n",
      "Rounds: 0 Accuracy: 0.980000\n",
      "Rounds: 1 Accuracy: 0.980000\n",
      "Rounds: 2 Accuracy: 0.980000\n",
      "Rounds: 3 Accuracy: 0.960000\n",
      "Rounds: 4 Accuracy: 0.960000\n",
      "Rounds: 5 Accuracy: 0.940000\n",
      "Rounds: 6 Accuracy: 0.960000\n",
      "Rounds: 7 Accuracy: 0.960000\n",
      "Rounds: 8 Accuracy: 0.980000\n",
      "Rounds: 9 Accuracy: 0.960000\n",
      "Mira Simple Dataset Accuracy train: 0.980000 test: 0.860000\n",
      "\n",
      "lambda 0.4\n",
      "Rounds: 0 Accuracy: 0.980000\n",
      "Rounds: 1 Accuracy: 0.980000\n",
      "Rounds: 2 Accuracy: 0.980000\n",
      "Rounds: 3 Accuracy: 0.980000\n",
      "Rounds: 4 Accuracy: 0.980000\n",
      "Rounds: 5 Accuracy: 0.980000\n",
      "Rounds: 6 Accuracy: 0.980000\n",
      "Rounds: 7 Accuracy: 0.980000\n",
      "Rounds: 8 Accuracy: 0.980000\n",
      "Rounds: 9 Accuracy: 0.980000\n",
      "Mira Simple Dataset Accuracy train: 0.980000 test: 0.880000\n",
      "\n",
      "lambda 0.5\n",
      "Rounds: 0 Accuracy: 0.980000\n",
      "Rounds: 1 Accuracy: 0.980000\n",
      "Rounds: 2 Accuracy: 0.980000\n",
      "Rounds: 3 Accuracy: 0.980000\n",
      "Rounds: 4 Accuracy: 0.980000\n",
      "Rounds: 5 Accuracy: 0.980000\n",
      "Rounds: 6 Accuracy: 0.980000\n",
      "Rounds: 7 Accuracy: 0.980000\n",
      "Rounds: 8 Accuracy: 0.980000\n",
      "Rounds: 9 Accuracy: 0.980000\n",
      "Mira Simple Dataset Accuracy train: 0.980000 test: 0.880000\n",
      "\n",
      "lambda 0.6\n",
      "Rounds: 0 Accuracy: 0.980000\n",
      "Rounds: 1 Accuracy: 0.980000\n",
      "Rounds: 2 Accuracy: 0.980000\n",
      "Rounds: 3 Accuracy: 0.980000\n",
      "Rounds: 4 Accuracy: 0.980000\n",
      "Rounds: 5 Accuracy: 0.980000\n",
      "Rounds: 6 Accuracy: 0.980000\n",
      "Rounds: 7 Accuracy: 0.980000\n",
      "Rounds: 8 Accuracy: 0.980000\n",
      "Rounds: 9 Accuracy: 0.980000\n",
      "Mira Simple Dataset Accuracy train: 0.980000 test: 0.880000\n",
      "\n",
      "lambda 0.7\n",
      "Rounds: 0 Accuracy: 0.980000\n",
      "Rounds: 1 Accuracy: 0.980000\n",
      "Rounds: 2 Accuracy: 0.980000\n",
      "Rounds: 3 Accuracy: 0.980000\n",
      "Rounds: 4 Accuracy: 0.980000\n",
      "Rounds: 5 Accuracy: 0.980000\n",
      "Rounds: 6 Accuracy: 0.980000\n",
      "Rounds: 7 Accuracy: 0.980000\n",
      "Rounds: 8 Accuracy: 0.980000\n",
      "Rounds: 9 Accuracy: 0.980000\n",
      "Mira Simple Dataset Accuracy train: 0.980000 test: 0.880000\n",
      "\n",
      "lambda 0.8\n",
      "Rounds: 0 Accuracy: 0.980000\n",
      "Rounds: 1 Accuracy: 0.980000\n",
      "Rounds: 2 Accuracy: 0.980000\n",
      "Rounds: 3 Accuracy: 0.980000\n",
      "Rounds: 4 Accuracy: 0.980000\n",
      "Rounds: 5 Accuracy: 0.980000\n",
      "Rounds: 6 Accuracy: 0.980000\n",
      "Rounds: 7 Accuracy: 0.980000\n",
      "Rounds: 8 Accuracy: 0.980000\n",
      "Rounds: 9 Accuracy: 0.980000\n",
      "Mira Simple Dataset Accuracy train: 0.980000 test: 0.880000\n",
      "\n",
      "lambda 0.9\n",
      "Rounds: 0 Accuracy: 0.980000\n",
      "Rounds: 1 Accuracy: 0.980000\n",
      "Rounds: 2 Accuracy: 0.980000\n",
      "Rounds: 3 Accuracy: 0.980000\n",
      "Rounds: 4 Accuracy: 0.980000\n",
      "Rounds: 5 Accuracy: 0.980000\n",
      "Rounds: 6 Accuracy: 0.980000\n",
      "Rounds: 7 Accuracy: 0.980000\n",
      "Rounds: 8 Accuracy: 0.980000\n",
      "Rounds: 9 Accuracy: 0.980000\n",
      "Mira Simple Dataset Accuracy train: 0.980000 test: 0.880000\n",
      "\n",
      "lambda 1\n",
      "Rounds: 0 Accuracy: 0.980000\n",
      "Rounds: 1 Accuracy: 0.980000\n",
      "Rounds: 2 Accuracy: 0.980000\n",
      "Rounds: 3 Accuracy: 0.980000\n",
      "Rounds: 4 Accuracy: 0.980000\n",
      "Rounds: 5 Accuracy: 0.980000\n",
      "Rounds: 6 Accuracy: 0.980000\n",
      "Rounds: 7 Accuracy: 0.980000\n",
      "Rounds: 8 Accuracy: 0.980000\n",
      "Rounds: 9 Accuracy: 0.980000\n",
      "Mira Simple Dataset Accuracy train: 0.980000 test: 0.880000\n",
      "\n",
      "lambda 1.2\n",
      "Rounds: 0 Accuracy: 0.460000\n",
      "Rounds: 1 Accuracy: 0.460000\n",
      "Rounds: 2 Accuracy: 0.460000\n",
      "Rounds: 3 Accuracy: 0.460000\n",
      "Rounds: 4 Accuracy: 0.460000\n",
      "Rounds: 5 Accuracy: 0.460000\n",
      "Rounds: 6 Accuracy: 0.460000\n",
      "Rounds: 7 Accuracy: 0.460000\n",
      "Rounds: 8 Accuracy: 0.460000\n",
      "Rounds: 9 Accuracy: 0.460000\n",
      "Mira Simple Dataset Accuracy train: 0.460000 test: 0.540000\n",
      "\n",
      "lambda 2\n",
      "Rounds: 0 Accuracy: 0.460000\n",
      "Rounds: 1 Accuracy: 0.460000\n",
      "Rounds: 2 Accuracy: 0.460000\n",
      "Rounds: 3 Accuracy: 0.460000\n",
      "Rounds: 4 Accuracy: 0.460000\n",
      "Rounds: 5 Accuracy: 0.460000\n",
      "Rounds: 6 Accuracy: 0.460000\n",
      "Rounds: 7 Accuracy: 0.460000\n",
      "Rounds: 8 Accuracy: 0.460000\n",
      "Rounds: 9 Accuracy: 0.460000\n",
      "Mira Simple Dataset Accuracy train: 0.460000 test: 0.540000\n"
     ]
    }
   ],
   "source": [
    "params_mira_sd={}\n",
    "for i in [0.1,0.2,0.3,0.4,0.5,0.6,0.7,0.8,0.9,1,1.2,2]:\n",
    "    mira.regularizer = i# This is lambda\n",
    "    print \"\\nlambda\", i\n",
    "    params_mira_sd[i] = mira.train(sd.train_X,sd.train_y)\n",
    "    y_pred_train = mira.test(sd.train_X,params_mira_sd[i])\n",
    "    acc_train = mira.evaluate(sd.train_y, y_pred_train)\n",
    "    y_pred_test = mira.test(sd.test_X,params_mira_sd[i])\n",
    "    acc_test = mira.evaluate(sd.test_y, y_pred_test)\n",
    "    print \"Mira Simple Dataset Accuracy train: %f test: %f\"%(acc_train,acc_test)"
   ]
  },
  {
   "cell_type": "markdown",
   "metadata": {},
   "source": [
    "> Compare it with the perceptron for various values of lambda"
   ]
  },
  {
   "cell_type": "markdown",
   "metadata": {},
   "source": [
    "Comparing it with various values of lambda, we can see that lower values (lower penalizations) lead to highest accuracies, being the best value in this case a lambda of >0.1. Comparing it with perceptron, we can observe similar results, being slightly better the MIRA. Plotting the decision boundary:"
   ]
  },
  {
   "cell_type": "code",
   "execution_count": 12,
   "metadata": {
    "collapsed": false
   },
   "outputs": [
    {
     "name": "stdout",
     "output_type": "stream",
     "text": [
      "[[-1.69314718 -1.69314718]\n",
      " [-1.          1.        ]\n",
      " [-1.          1.        ]]\n"
     ]
    },
    {
     "data": {
      "image/png": "[encoded data removed]",
      "text/plain": [
       "<matplotlib.figure.Figure at 0x1204fb350>"
      ]
     },
     "metadata": {},
     "output_type": "display_data"
    }
   ],
   "source": [
    "fig,axis = sd.plot_data()\n",
    "fig,axis = sd.add_line(fig,axis,params_mira_sd[0.2],\"Mira\",\"green\")"
   ]
  },
  {
   "cell_type": "markdown",
   "metadata": {},
   "source": [
    "Therefore, I have selected a lambda of 0.1 for Amazon dataset, leading to an accuracy of 0.75, which outperforms the default value (0.1 would lead to an accuracy of 0.5)."
   ]
  },
  {
   "cell_type": "code",
   "execution_count": 13,
   "metadata": {
    "collapsed": false
   },
   "outputs": [
    {
     "name": "stdout",
     "output_type": "stream",
     "text": [
      "Rounds: 0 Accuracy: 0.707500\n",
      "Rounds: 1 Accuracy: 0.740625\n",
      "Rounds: 2 Accuracy: 0.743125\n",
      "Rounds: 3 Accuracy: 0.811875\n",
      "Rounds: 4 Accuracy: 0.770000\n",
      "Rounds: 5 Accuracy: 0.810625\n",
      "Rounds: 6 Accuracy: 0.843750\n",
      "Rounds: 7 Accuracy: 0.868750\n",
      "Rounds: 8 Accuracy: 0.890000\n",
      "Rounds: 9 Accuracy: 0.868125\n",
      "Mira Amazon Sentiment Accuracy train: 0.886875 test: 0.755000\n"
     ]
    }
   ],
   "source": [
    "mira.regularizer = 0.1 # This is lambda\n",
    "params_mira_sc = mira.train(scr.train_X,scr.train_y)\n",
    "y_pred_train = mira.test(scr.train_X,params_mira_sc)\n",
    "acc_train = mira.evaluate(scr.train_y, y_pred_train)\n",
    "y_pred_test = mira.test(scr.test_X,params_mira_sc)\n",
    "acc_test = mira.evaluate(scr.test_y, y_pred_test)\n",
    "print \"Mira Amazon Sentiment Accuracy train: %f test: %f\"%(acc_train,acc_test)"
   ]
  },
  {
   "cell_type": "markdown",
   "metadata": {},
   "source": [
    "<b> Exercise 1.4 -Maximum Entropy Classifiers </b>\n",
    "<br>\n",
    "We provide an implementation of the L-BFGS algorithm for training maximum entropy models in the class\n",
    "MaxEnt batch, as well as an implementation of the SGD algorithm in the class MaxEnt online."
   ]
  },
  {
   "cell_type": "markdown",
   "metadata": {},
   "source": [
    "> Train a maximum entropy model using L-BFGS on the Simple data set (try different values of lambda). Compare the results with the previous methods."
   ]
  },
  {
   "cell_type": "code",
   "execution_count": 14,
   "metadata": {
    "collapsed": false
   },
   "outputs": [],
   "source": [
    "import lxmls.classifiers.max_ent_batch as mebc\n",
    "me_lbfgs = mebc.MaxEntBatch()"
   ]
  },
  {
   "cell_type": "code",
   "execution_count": 15,
   "metadata": {
    "collapsed": false
   },
   "outputs": [
    {
     "name": "stdout",
     "output_type": "stream",
     "text": [
      "\n",
      "lambda 0.1\n",
      "Objective = 0.69314718056\n",
      "Objective = 0.26657862166\n",
      "Objective = 0.259389716331\n",
      "Objective = 0.255341989834\n",
      "Objective = 0.255263818238\n",
      "Objective = 0.255263232379\n",
      "Max-Ent batch Simple Dataset Accuracy train: 0.960000 test: 0.880000\n",
      "\n",
      "lambda 0.2\n",
      "Objective = 0.69314718056\n",
      "Objective = 0.31657862166\n",
      "Objective = 0.314803610986\n",
      "Objective = 0.314003106634\n",
      "Objective = 0.314001015265\n",
      "Objective = 0.314000839548\n",
      "Objective = 0.314000833354\n",
      "Max-Ent batch Simple Dataset Accuracy train: 0.960000 test: 0.880000\n",
      "\n",
      "lambda 0.5\n",
      "Objective = 0.69314718056\n",
      "Objective = 0.46657862166\n",
      "Objective = 0.411719078861\n",
      "Objective = 0.406186565302\n",
      "Objective = 0.406002938231\n",
      "Objective = 0.406002317889\n",
      "Objective = 0.406002311973\n",
      "Objective = 0.406002311748\n",
      "Max-Ent batch Simple Dataset Accuracy train: 0.960000 test: 0.880000\n",
      "\n",
      "lambda 1\n",
      "Objective = 0.69314718056\n",
      "Objective = 0.71657862166\n",
      "Objective = 0.480443648508\n",
      "Objective = 0.480034826362\n",
      "Objective = 0.47997957726\n",
      "Objective = 0.479979566099\n",
      "Objective = 0.479979565901\n",
      "Max-Ent batch Simple Dataset Accuracy train: 0.960000 test: 0.860000\n",
      "\n",
      "lambda 1.5\n",
      "Objective = 0.69314718056\n",
      "Objective = 0.96657862166\n",
      "Objective = 0.521666853951\n",
      "Objective = 0.521434448174\n",
      "Objective = 0.521414273286\n",
      "Objective = 0.521414269843\n",
      "Max-Ent batch Simple Dataset Accuracy train: 0.960000 test: 0.860000\n",
      "\n",
      "lambda 2\n",
      "Objective = 0.69314718056\n",
      "Objective = 1.21657862166\n",
      "Objective = 0.548888675303\n",
      "Objective = 0.548745932932\n",
      "Objective = 0.548737135324\n",
      "Objective = 0.548737134635\n",
      "Max-Ent batch Simple Dataset Accuracy train: 0.980000 test: 0.860000\n",
      "\n",
      "lambda 5\n",
      "Objective = 0.69314718056\n",
      "Objective = 2.71657862166\n",
      "Objective = 0.618357632312\n",
      "Objective = 0.618337760536\n",
      "Objective = 0.618337417041\n",
      "Max-Ent batch Simple Dataset Accuracy train: 0.980000 test: 0.860000\n",
      "\n",
      "lambda 7\n",
      "Objective = 0.69314718056\n",
      "Objective = 3.71657862166\n",
      "Objective = 0.636412653148\n",
      "Objective = 0.636403932315\n",
      "Objective = 0.636403846236\n",
      "Max-Ent batch Simple Dataset Accuracy train: 0.980000 test: 0.860000\n",
      "\n",
      "lambda 10\n",
      "Objective = 0.69314718056\n",
      "Objective = 5.21657862166\n",
      "Objective = 0.65147690884\n",
      "Objective = 0.651473371929\n",
      "Objective = 0.651473353665\n",
      "Max-Ent batch Simple Dataset Accuracy train: 0.980000 test: 0.860000\n",
      "\n",
      "lambda 20\n",
      "Objective = 0.69314718056\n",
      "Objective = 10.2165786217\n",
      "Objective = 0.671032261073\n",
      "Objective = 0.671031691531\n",
      "Objective = 0.671031690776\n",
      "Max-Ent batch Simple Dataset Accuracy train: 0.980000 test: 0.860000\n"
     ]
    }
   ],
   "source": [
    "params_meb_sd={}\n",
    "for i in [0.1,0.2,0.5,1,1.5,2,5,7,10,20]:\n",
    "    me_lbfgs.regularizer = i\n",
    "    print \"\\nlambda\", i\n",
    "    params_meb_sd[i] = me_lbfgs.train(sd.train_X,sd.train_y)\n",
    "    y_pred_train = me_lbfgs.test(sd.train_X,params_meb_sd[i])\n",
    "    acc_train = me_lbfgs.evaluate(sd.train_y, y_pred_train)\n",
    "    y_pred_test = me_lbfgs.test(sd.test_X,params_meb_sd[i])\n",
    "    acc_test = me_lbfgs.evaluate(sd.test_y, y_pred_test)\n",
    "    print \"Max-Ent batch Simple Dataset Accuracy train: %f test: %f\"%(acc_train,acc_test)"
   ]
  },
  {
   "cell_type": "markdown",
   "metadata": {},
   "source": [
    "Comparing it with various values of lambda, we can see that higher values lead to highest accuracies, being the best value in this case a lambda of value > 7. In general the results were similar to the previous methods. Plotting the decision boundary:"
   ]
  },
  {
   "cell_type": "code",
   "execution_count": 16,
   "metadata": {
    "collapsed": false
   },
   "outputs": [
    {
     "name": "stdout",
     "output_type": "stream",
     "text": [
      "[[-1.69314718 -1.69314718]\n",
      " [-1.          1.        ]\n",
      " [-1.          1.        ]]\n"
     ]
    },
    {
     "data": {
      "image/png": "[encoded data removed]",
      "text/plain": [
       "<matplotlib.figure.Figure at 0x1216b5c10>"
      ]
     },
     "metadata": {},
     "output_type": "display_data"
    }
   ],
   "source": [
    "fig,axis = sd.plot_data()\n",
    "fig,axis = sd.add_line(fig,axis,params_meb_sd[7],\"Max-Ent-Batch\",\"orange\")"
   ]
  },
  {
   "cell_type": "markdown",
   "metadata": {},
   "source": [
    "> Train a maximum entropy model using L-BFGS, on the Amazon dataset (try different values of lambda) and report training and test set accuracy."
   ]
  },
  {
   "cell_type": "code",
   "execution_count": 17,
   "metadata": {
    "collapsed": false
   },
   "outputs": [
    {
     "name": "stdout",
     "output_type": "stream",
     "text": [
      "\n",
      "lambda 0.1\n",
      "Objective = 0.69314718056\n",
      "Objective = 1.90699359189\n",
      "Objective = 0.685029648463\n",
      "Objective = 0.656557258704\n",
      "Objective = 0.604058977281\n",
      "Objective = 0.560811187932\n",
      "Objective = 0.493687772872\n",
      "Objective = 0.469150827084\n",
      "Objective = 0.462501381016\n",
      "Objective = 0.456638713756\n",
      "Objective = 0.451318239921\n",
      "Objective = 0.445698711637\n",
      "Objective = 0.445229017585\n",
      "Objective = 0.44336346625\n",
      "Objective = 0.443142461258\n",
      "Objective = 0.442900262392\n",
      "Objective = 0.443255083097\n",
      "Objective = 0.44285207403\n",
      "Objective = 0.442817981431\n",
      "Objective = 0.442782761217\n",
      "Objective = 0.442748084594\n",
      "Objective = 0.442735379598\n",
      "Objective = 0.442734058558\n",
      "Objective = 0.442730979411\n",
      "Objective = 0.442730633963\n",
      "Objective = 0.442730052705\n",
      "Objective = 0.44272965541\n",
      "Objective = 0.442729940738\n",
      "Objective = 0.442729583716\n",
      "Objective = 0.44272964509\n",
      "Objective = 0.442729558261\n",
      "Objective = 0.442729532572\n",
      "Objective = 0.442729514399\n",
      "Objective = 0.442729483577\n",
      "Objective = 0.44272946889\n",
      "Objective = 0.442729469601\n",
      "Objective = 0.442729466087\n",
      "Objective = 0.442729464276\n",
      "Max-Ent Batch Amazon Sentiment Accuracy train: 0.955625 test: 0.835000\n",
      "\n",
      "lambda 0.2\n",
      "Objective = 0.69314718056\n",
      "Objective = 1.95699359189\n",
      "Objective = 0.684935841771\n",
      "Objective = 0.657316718038\n",
      "Objective = 0.609259669031\n",
      "Objective = 0.574102808433\n",
      "Objective = 0.537967698365\n",
      "Objective = 0.519327333838\n",
      "Objective = 0.516865563893\n",
      "Objective = 0.513386354678\n",
      "Objective = 0.511223328386\n",
      "Objective = 0.5098802713\n",
      "Objective = 0.509755439904\n",
      "Objective = 0.509622311092\n",
      "Objective = 0.509607200854\n",
      "Objective = 0.50959138047\n",
      "Objective = 0.50964276224\n",
      "Objective = 0.509590427378\n",
      "Objective = 0.50958893715\n",
      "Objective = 0.509587491698\n",
      "Objective = 0.509586942412\n",
      "Objective = 0.509586715858\n",
      "Objective = 0.50958645021\n",
      "Objective = 0.509586389582\n",
      "Objective = 0.509586381978\n",
      "Objective = 0.509586371282\n",
      "Max-Ent Batch Amazon Sentiment Accuracy train: 0.928750 test: 0.827500\n",
      "\n",
      "lambda 0.5\n",
      "Objective = 0.69314718056\n",
      "Objective = 2.10699359189\n",
      "Objective = 0.68470323006\n",
      "Objective = 0.659425728208\n",
      "Objective = 0.622036951984\n",
      "Objective = 0.602036355352\n",
      "Objective = 0.595485078659\n",
      "Objective = 0.583656732676\n",
      "Objective = 0.583049312859\n",
      "Objective = 0.582418716358\n",
      "Objective = 0.582142762041\n",
      "Objective = 0.58205329146\n",
      "Objective = 0.582046384582\n",
      "Objective = 0.582044809123\n",
      "Objective = 0.582044467174\n",
      "Objective = 0.582044261041\n",
      "Objective = 0.582044713428\n",
      "Objective = 0.582044252592\n",
      "Objective = 0.582044232489\n",
      "Objective = 0.58204422404\n",
      "Objective = 0.582044221018\n",
      "Objective = 0.582044220022\n",
      "Max-Ent Batch Amazon Sentiment Accuracy train: 0.889375 test: 0.812500\n",
      "\n",
      "lambda 1\n",
      "Objective = 0.69314718056\n",
      "Objective = 2.35699359189\n",
      "Objective = 0.684446278348\n",
      "Objective = 0.662465339727\n",
      "Objective = 0.636905088298\n",
      "Objective = 0.627955556207\n",
      "Objective = 0.62428542661\n",
      "Objective = 0.622621016561\n",
      "Objective = 0.622511818322\n",
      "Objective = 0.622432543872\n",
      "Objective = 0.622409822693\n",
      "Objective = 0.622403500619\n",
      "Objective = 0.622402924504\n",
      "Objective = 0.622402796132\n",
      "Objective = 0.622402787594\n",
      "Objective = 0.622402780959\n",
      "Objective = 0.622402796062\n",
      "Objective = 0.622402779848\n",
      "Max-Ent Batch Amazon Sentiment Accuracy train: 0.858125 test: 0.790000\n",
      "\n",
      "lambda 1.5\n",
      "Objective = 0.69314718056\n",
      "Objective = 2.60699359189\n",
      "Objective = 0.684309203924\n",
      "Objective = 0.665033514782\n",
      "Objective = 0.646919054853\n",
      "Objective = 0.642431908627\n",
      "Objective = 0.64062493514\n",
      "Objective = 0.640318373053\n",
      "Objective = 0.640289360791\n",
      "Objective = 0.64027198189\n",
      "Objective = 0.640270295836\n",
      "Objective = 0.64026984815\n",
      "Objective = 0.640269839918\n",
      "Objective = 0.640269835344\n",
      "Objective = 0.64026983509\n",
      "Max-Ent Batch Amazon Sentiment Accuracy train: 0.834375 test: 0.772500\n",
      "\n",
      "lambda 2\n",
      "Objective = 0.69314718056\n",
      "Objective = 2.85699359189\n",
      "Objective = 0.68425659866\n",
      "Objective = 0.667232797836\n",
      "Objective = 0.654040553983\n",
      "Objective = 0.651604383041\n",
      "Objective = 0.650710894916\n",
      "Objective = 0.650610454886\n",
      "Objective = 0.65059977744\n",
      "Objective = 0.650596225628\n",
      "Objective = 0.650596024154\n",
      "Objective = 0.650595994382\n",
      "Objective = 0.650595993499\n",
      "Max-Ent Batch Amazon Sentiment Accuracy train: 0.818750 test: 0.762500\n",
      "\n",
      "lambda 5\n",
      "Objective = 0.69314718056\n",
      "Objective = 4.35699359189\n",
      "Objective = 0.684744122402\n",
      "Objective = 0.675763749739\n",
      "Objective = 0.673002378777\n",
      "Objective = 0.672838309593\n",
      "Objective = 0.672789879864\n",
      "Objective = 0.672786724625\n",
      "Objective = 0.672786632531\n",
      "Objective = 0.67278662695\n",
      "Max-Ent Batch Amazon Sentiment Accuracy train: 0.773750 test: 0.730000\n",
      "\n",
      "lambda 7\n",
      "Objective = 0.69314718056\n",
      "Objective = 5.35699359189\n",
      "Objective = 0.685301949783\n",
      "Objective = 0.679018090554\n",
      "Objective = 0.677850872863\n",
      "Objective = 0.677803761311\n",
      "Objective = 0.677790270339\n",
      "Objective = 0.677789889135\n",
      "Objective = 0.677789880643\n",
      "Objective = 0.677789880312\n",
      "Max-Ent Batch Amazon Sentiment Accuracy train: 0.748750 test: 0.695000\n",
      "\n",
      "lambda 10\n",
      "Objective = 0.69314718056\n",
      "Objective = 6.85699359189\n",
      "Objective = 0.686121863989\n",
      "Objective = 0.682181097047\n",
      "Objective = 0.681812022152\n",
      "Objective = 0.681800493945\n",
      "Objective = 0.681797537799\n",
      "Objective = 0.681797517694\n",
      "Objective = 0.681797517237\n",
      "Max-Ent Batch Amazon Sentiment Accuracy train: 0.721250 test: 0.670000\n"
     ]
    }
   ],
   "source": [
    "for i in [0.1,0.2,0.5,1,1.5,2,5,7,10]:\n",
    "    me_lbfgs.regularizer = i\n",
    "    print \"\\nlambda\", i\n",
    "    params_meb_sc = me_lbfgs.train(scr.train_X,scr.train_y)\n",
    "    y_pred_train = me_lbfgs.test(scr.train_X,params_meb_sc)\n",
    "    acc_train = me_lbfgs.evaluate(scr.train_y, y_pred_train)\n",
    "    y_pred_test = me_lbfgs.test(scr.test_X,params_meb_sc)\n",
    "    acc_test = me_lbfgs.evaluate(scr.test_y, y_pred_test)\n",
    "    print \"Max-Ent Batch Amazon Sentiment Accuracy train: %f test: %f\"%(acc_train, acc_test)"
   ]
  },
  {
   "cell_type": "markdown",
   "metadata": {},
   "source": [
    "> What do you observe?"
   ]
  },
  {
   "cell_type": "markdown",
   "metadata": {},
   "source": [
    "Comparing it with various values of lambda, we can see that lower values lead to highest accuracies, being the best value in this case a lambda of 0.1."
   ]
  },
  {
   "cell_type": "markdown",
   "metadata": {},
   "source": [
    "> Now, fix lambda = 1.0 and train with SGD (you might try to adjust the initial step)."
   ]
  },
  {
   "cell_type": "code",
   "execution_count": 18,
   "metadata": {
    "collapsed": true
   },
   "outputs": [],
   "source": [
    "import lxmls.classifiers.max_ent_online as meoc\n",
    "me_sgd = meoc.MaxEntOnline()"
   ]
  },
  {
   "cell_type": "code",
   "execution_count": 19,
   "metadata": {
    "collapsed": false
   },
   "outputs": [
    {
     "name": "stdout",
     "output_type": "stream",
     "text": [
      "Epochs: 0 Objective: 1.169629\n",
      "Epochs: 0 Accuracy: 0.821875\n",
      "Epochs: 1 Objective: 0.646076\n",
      "Epochs: 1 Accuracy: 0.850000\n",
      "Epochs: 2 Objective: 0.635095\n",
      "Epochs: 2 Accuracy: 0.861250\n",
      "Epochs: 3 Objective: 0.631180\n",
      "Epochs: 3 Accuracy: 0.860000\n",
      "Epochs: 4 Objective: 0.629128\n",
      "Epochs: 4 Accuracy: 0.861875\n",
      "Epochs: 5 Objective: 0.627862\n",
      "Epochs: 5 Accuracy: 0.861250\n",
      "Epochs: 6 Objective: 0.627001\n",
      "Epochs: 6 Accuracy: 0.861250\n",
      "Epochs: 7 Objective: 0.626376\n",
      "Epochs: 7 Accuracy: 0.860625\n",
      "Epochs: 8 Objective: 0.625902\n",
      "Epochs: 8 Accuracy: 0.860625\n",
      "Epochs: 9 Objective: 0.625529\n",
      "Epochs: 9 Accuracy: 0.860625\n",
      "Max-Ent Online Amazon Sentiment Accuracy train: 0.860625 test: 0.787500\n"
     ]
    }
   ],
   "source": [
    "me_sgd.regularizer = 1.0\n",
    "params_meo_sc = me_sgd.train(scr.train_X,scr.train_y)\n",
    "y_pred_train = me_sgd.test(scr.train_X,params_meo_sc)\n",
    "acc_train = me_sgd.evaluate(scr.train_y, y_pred_train)\n",
    "y_pred_test = me_sgd.test(scr.test_X,params_meo_sc)\n",
    "acc_test = me_sgd.evaluate(scr.test_y, y_pred_test)\n",
    "print \"Max-Ent Online Amazon Sentiment Accuracy train: %f test: %f\"%(acc_train,\n",
    "acc_test)"
   ]
  },
  {
   "cell_type": "markdown",
   "metadata": {},
   "source": [
    "<b> Exercise 1.4 -Support Vector Machines (SVM) </b>\n",
    "<br>\n",
    "Implement the SVM primal algorithm (Hint: look at the models implemented earlier, you should only need to change a few lines of code). Do this by creating a file SVM.py and implement class SVM. "
   ]
  },
  {
   "cell_type": "code",
   "execution_count": 20,
   "metadata": {
    "collapsed": false
   },
   "outputs": [
    {
     "name": "stdout",
     "output_type": "stream",
     "text": [
      "Round: 0 Objective: 0.717175\n",
      "Round: 0 Accuracy: 0.980000\n",
      "Round: 1 Objective: 0.489933\n",
      "Round: 1 Accuracy: 0.960000\n",
      "Round: 2 Objective: 0.488204\n",
      "Round: 2 Accuracy: 0.960000\n",
      "Round: 3 Objective: 0.477311\n",
      "Round: 3 Accuracy: 0.960000\n",
      "Round: 4 Objective: 0.469614\n",
      "Round: 4 Accuracy: 0.960000\n",
      "Round: 5 Objective: 0.467796\n",
      "Round: 5 Accuracy: 0.940000\n",
      "Round: 6 Objective: 0.466594\n",
      "Round: 6 Accuracy: 0.940000\n",
      "Round: 7 Objective: 0.465741\n",
      "Round: 7 Accuracy: 0.940000\n",
      "Round: 8 Objective: 0.464014\n",
      "Round: 8 Accuracy: 0.940000\n",
      "Round: 9 Objective: 0.463316\n",
      "Round: 9 Accuracy: 0.940000\n",
      "SVM Online Simple Dataset Accuracy train: 0.940000 test: 0.880000\n",
      "[[-1.69314718 -1.69314718]\n",
      " [-1.          1.        ]\n",
      " [-1.          1.        ]]\n"
     ]
    },
    {
     "data": {
      "image/png": "[encoded data removed]",
      "text/plain": [
       "<matplotlib.figure.Figure at 0x121755510>"
      ]
     },
     "metadata": {},
     "output_type": "display_data"
    }
   ],
   "source": [
    "import lxmls.classifiers.mysvm as svmc\n",
    "svm = svmc.SVM()\n",
    "svm.regularizer = 1.0 # This is lambda\n",
    "params_svm_sd = svm.train(sd.train_X,sd.train_y)\n",
    "y_pred_train = svm.test(sd.train_X,params_svm_sd)\n",
    "acc_train = svm.evaluate(sd.train_y, y_pred_train)\n",
    "y_pred_test = svm.test(sd.test_X,params_svm_sd)\n",
    "acc_test = svm.evaluate(sd.test_y, y_pred_test)\n",
    "print \"SVM Online Simple Dataset Accuracy train: %f test: %f\"%(acc_train,acc_test)\n",
    "fig,axis = sd.plot_data()\n",
    "fig,axis = sd.add_line(fig,axis,params_svm_sd,\"SVM\",\"orange\")"
   ]
  },
  {
   "cell_type": "code",
   "execution_count": 21,
   "metadata": {
    "collapsed": false
   },
   "outputs": [
    {
     "name": "stdout",
     "output_type": "stream",
     "text": [
      "Round: 0 Objective: 4.153706\n",
      "Round: 0 Accuracy: 0.863125\n",
      "Round: 1 Objective: 1.318255\n",
      "Round: 1 Accuracy: 0.878125\n",
      "Round: 2 Objective: 1.204551\n",
      "Round: 2 Accuracy: 0.888125\n",
      "Round: 3 Objective: 1.157584\n",
      "Round: 3 Accuracy: 0.894375\n",
      "Round: 4 Objective: 1.131977\n",
      "Round: 4 Accuracy: 0.886875\n",
      "Round: 5 Objective: 1.115366\n",
      "Round: 5 Accuracy: 0.884375\n",
      "Round: 6 Objective: 1.102585\n",
      "Round: 6 Accuracy: 0.897500\n",
      "Round: 7 Objective: 1.091488\n",
      "Round: 7 Accuracy: 0.891250\n",
      "Round: 8 Objective: 1.090866\n",
      "Round: 8 Accuracy: 0.896250\n",
      "Round: 9 Objective: 1.084450\n",
      "Round: 9 Accuracy: 0.894375\n",
      "SVM Online Amazon Sentiment Accuracy train: 0.894375 test: 0.812500\n"
     ]
    }
   ],
   "source": [
    "params_svm_sc = svm.train(scr.train_X,scr.train_y)\n",
    "y_pred_train = svm.test(scr.train_X,params_svm_sc)\n",
    "acc_train = svm.evaluate(scr.train_y, y_pred_train)\n",
    "y_pred_test = svm.test(scr.test_X,params_svm_sc)\n",
    "acc_test = svm.evaluate(scr.test_y, y_pred_test)\n",
    "print \"SVM Online Amazon Sentiment Accuracy train: %f test: %f\"%(acc_train,acc_test)"
   ]
  }
 ],
 "metadata": {
  "kernelspec": {
   "display_name": "Python [conda env:mypy26]",
   "language": "python",
   "name": "conda-env-mypy26-py"
  },
  "language_info": {
   "codemirror_mode": {
    "name": "ipython",
    "version": 2
   },
   "file_extension": ".py",
   "mimetype": "text/x-python",
   "name": "python",
   "nbconvert_exporter": "python",
   "pygments_lexer": "ipython2",
   "version": "2.7.14"
  }
 },
 "nbformat": 4,
 "nbformat_minor": 2
}
